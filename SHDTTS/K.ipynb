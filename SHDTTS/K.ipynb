{
 "cells": [
  {
   "cell_type": "code",
   "execution_count": 1,
   "metadata": {},
   "outputs": [
    {
     "data": {
      "text/plain": [
       "K (generic function with 1 method)"
      ]
     },
     "execution_count": 1,
     "metadata": {},
     "output_type": "execute_result"
    }
   ],
   "source": [
    "\"\"\"\n",
    "Using the method of Hamiltonian evolution can be simulated \n",
    "with an exponential improvement in precision over Trotter-based methods \n",
    "by approximating the truncated Taylor series of the time evolution operator\n",
    "β = it/ħ\n",
    "\"\"\"\n",
    "function K(H)\n",
    "    K = 0.0\n",
    "    A = -β/r\n",
    "    for i in 1:8\n",
    "        K += A/i * H[i]\n",
    "    end\n",
    "    return K\n",
    "end"
   ]
  },
  {
   "cell_type": "code",
   "execution_count": 31,
   "metadata": {},
   "outputs": [
    {
     "data": {
      "text/plain": [
       "Tr (generic function with 2 methods)"
      ]
     },
     "execution_count": 31,
     "metadata": {},
     "output_type": "execute_result"
    }
   ],
   "source": [
    "function Tr(r)\n",
    "    a = zeros(n)\n",
    "\n",
    "    a[1] = 2-r\n",
    "    for i in 2:20\n",
    "        a[i] = (-1)^i * (r-1)^i + a[i-1]\n",
    "    end\n",
    "    return a[n]\n",
    "end"
   ]
  },
  {
   "cell_type": "code",
   "execution_count": 15,
   "metadata": {},
   "outputs": [
    {
     "data": {
      "text/plain": [
       "21-element Vector{Float64}:\n",
       "  1.9\n",
       "  2.71\n",
       "  3.439\n",
       "  4.0951\n",
       "  4.68559\n",
       "  5.217031\n",
       "  5.6953279000000006\n",
       "  6.12579511\n",
       "  6.5132155990000005\n",
       "  6.861894039100001\n",
       "  7.175704635190001\n",
       "  7.458134171671\n",
       "  7.7123207545039\n",
       "  7.94108867905351\n",
       "  8.146979811148158\n",
       "  8.332281830033342\n",
       "  8.499053647030008\n",
       "  8.649148282327008\n",
       "  8.784233454094307\n",
       "  8.905810108684877\n",
       " 10.0"
      ]
     },
     "execution_count": 15,
     "metadata": {},
     "output_type": "execute_result"
    }
   ],
   "source": [
    "Tr(0.1)"
   ]
  },
  {
   "cell_type": "code",
   "execution_count": 32,
   "metadata": {},
   "outputs": [
    {
     "ename": "LoadError",
     "evalue": "UndefVarError: n not defined",
     "output_type": "error",
     "traceback": [
      "UndefVarError: n not defined",
      "",
      "Stacktrace:",
      "  [1] Tr(r::Float64)",
      "    @ Main .\\In[31]:2",
      "  [2] iterate",
      "    @ .\\generator.jl:47 [inlined]",
      "  [3] _collect(c::StepRangeLen{Float64, Base.TwicePrecision{Float64}, Base.TwicePrecision{Float64}, Int64}, itr::Base.Generator{StepRangeLen{Float64, Base.TwicePrecision{Float64}, Base.TwicePrecision{Float64}, Int64}, typeof(Tr)}, #unused#::Base.EltypeUnknown, isz::Base.HasShape{1})",
      "    @ Base .\\array.jl:807",
      "  [4] collect_similar(cont::StepRangeLen{Float64, Base.TwicePrecision{Float64}, Base.TwicePrecision{Float64}, Int64}, itr::Base.Generator{StepRangeLen{Float64, Base.TwicePrecision{Float64}, Base.TwicePrecision{Float64}, Int64}, typeof(Tr)})",
      "    @ Base .\\array.jl:716",
      "  [5] map(f::Function, A::StepRangeLen{Float64, Base.TwicePrecision{Float64}, Base.TwicePrecision{Float64}, Int64})",
      "    @ Base .\\abstractarray.jl:2933",
      "  [6] _compute_y",
      "    @ C:\\Users\\clock\\.julia\\packages\\RecipesPipeline\\XxUHt\\src\\series.jl:72 [inlined]",
      "  [7] _compute_xyz(x::StepRangeLen{Float64, Base.TwicePrecision{Float64}, Base.TwicePrecision{Float64}, Int64}, y::Function, z::Nothing, nice_error::Bool)",
      "    @ RecipesPipeline C:\\Users\\clock\\.julia\\packages\\RecipesPipeline\\XxUHt\\src\\series.jl:86",
      "  [8] macro expansion",
      "    @ C:\\Users\\clock\\.julia\\packages\\RecipesPipeline\\XxUHt\\src\\series.jl:140 [inlined]",
      "  [9] apply_recipe(plotattributes::AbstractDict{Symbol, Any}, #unused#::Type{RecipesPipeline.SliceIt}, x::Any, y::Any, z::Any)",
      "    @ RecipesPipeline C:\\Users\\clock\\.julia\\packages\\RecipesBase\\z10lo\\src\\RecipesBase.jl:300",
      " [10] _process_userrecipes!(plt::Any, plotattributes::Any, args::Any)",
      "    @ RecipesPipeline C:\\Users\\clock\\.julia\\packages\\RecipesPipeline\\XxUHt\\src\\user_recipe.jl:38",
      " [11] recipe_pipeline!(plt::Any, plotattributes::Any, args::Any)",
      "    @ RecipesPipeline C:\\Users\\clock\\.julia\\packages\\RecipesPipeline\\XxUHt\\src\\RecipesPipeline.jl:72",
      " [12] _plot!(plt::Plots.Plot, plotattributes::Any, args::Any)",
      "    @ Plots C:\\Users\\clock\\.julia\\packages\\Plots\\nuwp4\\src\\plot.jl:223",
      " [13] plot(::Any, ::Vararg{Any}; kw::Base.Pairs{Symbol, V, Tuple{Vararg{Symbol, N}}, NamedTuple{names, T}} where {V, N, names, T<:Tuple{Vararg{Any, N}}})",
      "    @ Plots C:\\Users\\clock\\.julia\\packages\\Plots\\nuwp4\\src\\plot.jl:102",
      " [14] plot(::Any, ::Any)",
      "    @ Plots C:\\Users\\clock\\.julia\\packages\\Plots\\nuwp4\\src\\plot.jl:93",
      " [15] top-level scope",
      "    @ In[32]:3"
     ]
    }
   ],
   "source": [
    "using Plots\n",
    "\n",
    "plot(0.1:0.1:1,Tr)"
   ]
  },
  {
   "cell_type": "code",
   "execution_count": null,
   "metadata": {},
   "outputs": [],
   "source": []
  }
 ],
 "metadata": {
  "kernelspec": {
   "display_name": "Julia 1.8.4",
   "language": "julia",
   "name": "julia-1.8"
  },
  "language_info": {
   "file_extension": ".jl",
   "mimetype": "application/julia",
   "name": "julia",
   "version": "1.8.4"
  },
  "orig_nbformat": 4
 },
 "nbformat": 4,
 "nbformat_minor": 2
}
