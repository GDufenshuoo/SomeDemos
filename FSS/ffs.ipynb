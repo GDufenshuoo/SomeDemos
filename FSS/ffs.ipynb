{
 "cells": [
  {
   "cell_type": "code",
   "execution_count": 2,
   "metadata": {},
   "outputs": [
    {
     "ename": "LoadError",
     "evalue": "MethodError: no method matching -(::Float64, ::Vector{Float64})\nFor element-wise subtraction, use broadcasting with dot syntax: scalar .- array\n\u001b[0mClosest candidates are:\n\u001b[0m  -(::Union{Float16, Float32, Float64}) at float.jl:381\n\u001b[0m  -(::T, \u001b[91m::T\u001b[39m) where T<:Union{Float16, Float32, Float64} at float.jl:384\n\u001b[0m  -(::Union{Float16, Float32, Float64}, \u001b[91m::BigFloat\u001b[39m) at mpfr.jl:465\n\u001b[0m  ...",
     "output_type": "error",
     "traceback": [
      "MethodError: no method matching -(::Float64, ::Vector{Float64})\nFor element-wise subtraction, use broadcasting with dot syntax: scalar .- array\n\u001b[0mClosest candidates are:\n\u001b[0m  -(::Union{Float16, Float32, Float64}) at float.jl:381\n\u001b[0m  -(::T, \u001b[91m::T\u001b[39m) where T<:Union{Float16, Float32, Float64} at float.jl:384\n\u001b[0m  -(::Union{Float16, Float32, Float64}, \u001b[91m::BigFloat\u001b[39m) at mpfr.jl:465\n\u001b[0m  ...",
      "",
      "Stacktrace:",
      " [1] markov_chain_sampling",
      "   @ .\\In[2]:27 [inlined]",
      " [2] FFS_continuous(N::Int64, Mcond::Int64, δx::Float64)",
      "   @ Main .\\In[2]:50",
      " [3] top-level scope",
      "   @ In[2]:55"
     ]
    }
   ],
   "source": [
    "using Random\n",
    "using LinearAlgebra\n",
    "\n",
    "function U(x::Vector{Float64}, m::Vector{Int64})\n",
    "    N = length(x)\n",
    "    M = Matrix{ComplexF64}(I, N, N)\n",
    "    for k in 1:N\n",
    "        if k > 1\n",
    "            h = x[k] - x[1:k-1]\n",
    "            h /= norm(h)\n",
    "            for j in 1:k-1\n",
    "                u = exp(im * 2π * h' * [0:N-1;] / N)\n",
    "                M[j, k] = u[m[j]] / u[m[k]]\n",
    "                M[k, j] = conj(M[j, k])\n",
    "            end\n",
    "        end\n",
    "        u = exp.(im * 2π * x[k] * [0:N-1;] / N)\n",
    "        M[k, k] = u[m[k]]\n",
    "    end\n",
    "    return M\n",
    "end\n",
    "\n",
    "function markov_chain_sampling(x::Vector{Float64}, m::Vector{Int64}, δx::Float64, Mcond::Int64)\n",
    "    N = length(x)\n",
    "    x_new = copy(x)\n",
    "    for i in 1:N\n",
    "        h = x_new[i] - x[1:i-1]\n",
    "        h /= norm(h)\n",
    "        U_new = U(x_new, m)\n",
    "        U_old = U(x, m)\n",
    "        for j in 1:Mcond\n",
    "            x_trial = x_new[i] + δx * randn()\n",
    "            h_trial = x_trial - x[1:i-1]\n",
    "            h_trial /= norm(h_trial)\n",
    "            U_trial = U([x[1:i-1]; x_trial; x[i+1:N]], m)\n",
    "            P = abs2(dot(U_trial[:, i], h_trial) / dot(U_old[:, i], h))\n",
    "            if rand() < P\n",
    "                x_new[i] = x_trial\n",
    "                U_old = copy(U_trial)\n",
    "            end\n",
    "        end\n",
    "    end\n",
    "    return x_new\n",
    "end\n",
    "\n",
    "function FFS_continuous(N::Int64, Mcond::Int64, δx::Float64)\n",
    "    m = randperm(N)\n",
    "    x = rand(N)\n",
    "    for i in 1:N\n",
    "        x = markov_chain_sampling(x, m, δx, Mcond)\n",
    "    end\n",
    "    return x\n",
    "end\n",
    "\n",
    "FFS_continuous(10, 10, 0.1)\n"
   ]
  },
  {
   "cell_type": "code",
   "execution_count": null,
   "metadata": {},
   "outputs": [],
   "source": []
  }
 ],
 "metadata": {
  "kernelspec": {
   "display_name": "Julia 1.8.4",
   "language": "julia",
   "name": "julia-1.8"
  },
  "language_info": {
   "file_extension": ".jl",
   "mimetype": "application/julia",
   "name": "julia",
   "version": "1.8.4"
  },
  "orig_nbformat": 4
 },
 "nbformat": 4,
 "nbformat_minor": 2
}
